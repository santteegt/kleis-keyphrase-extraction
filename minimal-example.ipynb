{
 "cells": [
  {
   "cell_type": "code",
   "execution_count": 1,
   "metadata": {},
   "outputs": [],
   "source": [
    "import kleis.resources.dataset as kl\n",
    "default_corpus = kl.load_corpus()"
   ]
  },
  {
   "cell_type": "code",
   "execution_count": 2,
   "metadata": {},
   "outputs": [],
   "source": [
    "# Default: filter_min_count = 3\n",
    "# Default: tagging_notation=\"BILOU\"\n",
    "default_corpus.training(features_method=\"simple-posseq\", filter_min_count=13)"
   ]
  },
  {
   "cell_type": "code",
   "execution_count": 3,
   "metadata": {},
   "outputs": [],
   "source": [
    "# Any text should work\n",
    "text = \"\"\"Information extraction is the process of extracting structured data from unstructured text, \\\n",
    "which is relevant for several end-to-end tasks, including question answering. \\\n",
    "This paper addresses the tasks of named entity recognition (NER), \\\n",
    "a subtask of information extraction, using conditional random fields (CRF). \\\n",
    "Our method is evaluated on the ConLL-2003 NER corpus.\n",
    "\"\"\""
   ]
  },
  {
   "cell_type": "code",
   "execution_count": 4,
   "metadata": {},
   "outputs": [],
   "source": [
    "# First call default_corpus.training as above \n",
    "keyphrases = default_corpus.label_text(text)"
   ]
  },
  {
   "cell_type": "code",
   "execution_count": 5,
   "metadata": {},
   "outputs": [
    {
     "name": "stdout",
     "output_type": "stream",
     "text": [
      "Keyphrases: 13\n",
      "('T1', ('KEYPHRASE', (73, 90)), 'unstructured text')\n",
      "('T3', ('KEYPHRASE', (0, 22)), 'Information extraction')\n",
      "('T4', ('KEYPHRASE', (150, 168)), 'question answering')\n",
      "('T5', ('KEYPHRASE', (210, 228)), 'entity recognition')\n",
      "('T6', ('KEYPHRASE', (249, 271)), 'information extraction')\n",
      "('T11', ('KEYPHRASE', (150, 158)), 'question')\n",
      "('T12', ('KEYPHRASE', (159, 168)), 'answering')\n",
      "('T15', ('KEYPHRASE', (217, 228)), 'recognition')\n",
      "('T23', ('KEYPHRASE', (230, 233)), 'NER')\n",
      "('T24', ('KEYPHRASE', (306, 309)), 'CRF')\n",
      "('T27', ('KEYPHRASE', (279, 304)), 'conditional random fields')\n",
      "('T31', ('KEYPHRASE', (298, 304)), 'fields')\n",
      "('T49', ('KEYPHRASE', (140, 168)), 'including question answering')\n",
      "\n",
      " - Fields:  T1 ('KEYPHRASE', (73, 90)) unstructured text\n",
      "\n",
      " Segment of text: 'unstructured text'\n",
      "True\n"
     ]
    }
   ],
   "source": [
    "# Print result\n",
    "print(\"Keyphrases:\", len(keyphrases))\n",
    "\n",
    "# Each keyphrase has the fields needed for the brat format\n",
    "print(\"\\n\".join([str(k) for k in keyphrases]))\n",
    "\n",
    "# The fields are \n",
    "keyphrase_id, (keyphrase_label, (keyphrase_start, keyphrase_end)), keyphrase_text = keyphrases[0]\n",
    "\n",
    "print(\"\\n - Fields: \", keyphrase_id, (keyphrase_label, (keyphrase_start, keyphrase_end)), keyphrase_text)\n",
    "\n",
    "# (keyphrase_start, keyphrase_end) are the span in the original text\n",
    "print(\"\\n Segment of text: '%s'\" % text[keyphrase_start:keyphrase_end])\n",
    "print(text[keyphrase_start:keyphrase_end] == keyphrase_text)"
   ]
  },
  {
   "cell_type": "code",
   "execution_count": 6,
   "metadata": {},
   "outputs": [
    {
     "name": "stdout",
     "output_type": "stream",
     "text": [
      "T1\tKEYPHRASE 73 90\tunstructured text\n",
      "T3\tKEYPHRASE 0 22\tInformation extraction\n",
      "T4\tKEYPHRASE 150 168\tquestion answering\n",
      "T5\tKEYPHRASE 210 228\tentity recognition\n",
      "T6\tKEYPHRASE 249 271\tinformation extraction\n",
      "T11\tKEYPHRASE 150 158\tquestion\n",
      "T12\tKEYPHRASE 159 168\tanswering\n",
      "T15\tKEYPHRASE 217 228\trecognition\n",
      "T23\tKEYPHRASE 230 233\tNER\n",
      "T24\tKEYPHRASE 306 309\tCRF\n",
      "T27\tKEYPHRASE 279 304\tconditional random fields\n",
      "T31\tKEYPHRASE 298 304\tfields\n",
      "T49\tKEYPHRASE 140 168\tincluding question answering\n"
     ]
    }
   ],
   "source": [
    "# Print keyphrases in brat format \n",
    "print(kl.keyphrases2brat(keyphrases))"
   ]
  },
  {
   "cell_type": "code",
   "execution_count": 7,
   "metadata": {},
   "outputs": [
    {
     "name": "stdout",
     "output_type": "stream",
     "text": [
      "- - - - - KEYPHRASE - - - - -\n",
      "Label:  KEYPHRASE\n",
      "Span:  (73, 90)\n",
      "Start:  73\n",
      "End:  90\n",
      "All fields:  T1 KEYPHRASE 73 90 unstructured text\n",
      "- - - - - KEYPHRASE - - - - -\n",
      "Label:  KEYPHRASE\n",
      "Span:  (0, 22)\n",
      "Start:  0\n",
      "End:  22\n",
      "All fields:  T3 KEYPHRASE 0 22 Information extraction\n",
      "- - - - - KEYPHRASE - - - - -\n",
      "Label:  KEYPHRASE\n",
      "Span:  (150, 168)\n",
      "Start:  150\n",
      "End:  168\n",
      "All fields:  T4 KEYPHRASE 150 168 question answering\n",
      "- - - - - KEYPHRASE - - - - -\n",
      "Label:  KEYPHRASE\n",
      "Span:  (210, 228)\n",
      "Start:  210\n",
      "End:  228\n",
      "All fields:  T5 KEYPHRASE 210 228 entity recognition\n",
      "- - - - - KEYPHRASE - - - - -\n",
      "Label:  KEYPHRASE\n",
      "Span:  (249, 271)\n",
      "Start:  249\n",
      "End:  271\n",
      "All fields:  T6 KEYPHRASE 249 271 information extraction\n",
      "- - - - - KEYPHRASE - - - - -\n",
      "Label:  KEYPHRASE\n",
      "Span:  (150, 158)\n",
      "Start:  150\n",
      "End:  158\n",
      "All fields:  T11 KEYPHRASE 150 158 question\n",
      "- - - - - KEYPHRASE - - - - -\n",
      "Label:  KEYPHRASE\n",
      "Span:  (159, 168)\n",
      "Start:  159\n",
      "End:  168\n",
      "All fields:  T12 KEYPHRASE 159 168 answering\n",
      "- - - - - KEYPHRASE - - - - -\n",
      "Label:  KEYPHRASE\n",
      "Span:  (217, 228)\n",
      "Start:  217\n",
      "End:  228\n",
      "All fields:  T15 KEYPHRASE 217 228 recognition\n",
      "- - - - - KEYPHRASE - - - - -\n",
      "Label:  KEYPHRASE\n",
      "Span:  (230, 233)\n",
      "Start:  230\n",
      "End:  233\n",
      "All fields:  T23 KEYPHRASE 230 233 NER\n",
      "- - - - - KEYPHRASE - - - - -\n",
      "Label:  KEYPHRASE\n",
      "Span:  (306, 309)\n",
      "Start:  306\n",
      "End:  309\n",
      "All fields:  T24 KEYPHRASE 306 309 CRF\n",
      "- - - - - KEYPHRASE - - - - -\n",
      "Label:  KEYPHRASE\n",
      "Span:  (279, 304)\n",
      "Start:  279\n",
      "End:  304\n",
      "All fields:  T27 KEYPHRASE 279 304 conditional random fields\n",
      "- - - - - KEYPHRASE - - - - -\n",
      "Label:  KEYPHRASE\n",
      "Span:  (298, 304)\n",
      "Start:  298\n",
      "End:  304\n",
      "All fields:  T31 KEYPHRASE 298 304 fields\n",
      "- - - - - KEYPHRASE - - - - -\n",
      "Label:  KEYPHRASE\n",
      "Span:  (140, 168)\n",
      "Start:  140\n",
      "End:  168\n",
      "All fields:  T49 KEYPHRASE 140 168 including question answering\n"
     ]
    }
   ],
   "source": [
    "# print label, start and end\n",
    "for keyphrase in keyphrases:\n",
    "    print(\"- - - - - KEYPHRASE - - - - -\")\n",
    "    print(\"Label: \", kl.keyphrase_label(keyphrase))\n",
    "    print(\"Span: \", kl.keyphrase_span(keyphrase))\n",
    "    # Another example with span\n",
    "    start, end = kl.keyphrase_span(keyphrase)\n",
    "    print(\"Start: \", start)\n",
    "    print(\"End: \", end)\n",
    "    # Without a function\n",
    "    keyphrase_id, (keyphrase_label, (start, end)), keyphrase_str = keyphrase\n",
    "    print(\"All fields: \", keyphrase_id, keyphrase_label, start, end, keyphrase_str)"
   ]
  },
  {
   "cell_type": "code",
   "execution_count": 38,
   "metadata": {},
   "outputs": [
    {
     "name": "stdout",
     "output_type": "stream",
     "text": [
      "('T3', ('KEYPHRASE', (0, 22)), 'Information extraction')\n",
      "('T1', ('KEYPHRASE', (73, 90)), 'unstructured text')\n",
      "('T49', ('KEYPHRASE', (140, 168)), 'including question answering')\n",
      "('T11', ('KEYPHRASE', (150, 158)), 'question')\n",
      "('T4', ('KEYPHRASE', (150, 168)), 'question answering')\n",
      "('T12', ('KEYPHRASE', (159, 168)), 'answering')\n",
      "('T5', ('KEYPHRASE', (210, 228)), 'entity recognition')\n",
      "('T15', ('KEYPHRASE', (217, 228)), 'recognition')\n",
      "('T23', ('KEYPHRASE', (230, 233)), 'NER')\n",
      "('T6', ('KEYPHRASE', (249, 271)), 'information extraction')\n",
      "('T27', ('KEYPHRASE', (279, 304)), 'conditional random fields')\n",
      "('T31', ('KEYPHRASE', (298, 304)), 'fields')\n"
     ]
    },
    {
     "data": {
      "text/plain": [
       "[True,\n",
       " True,\n",
       " True,\n",
       " False,\n",
       " True,\n",
       " False,\n",
       " True,\n",
       " False,\n",
       " True,\n",
       " True,\n",
       " True,\n",
       " False,\n",
       " True]"
      ]
     },
     "execution_count": 38,
     "metadata": {},
     "output_type": "execute_result"
    }
   ],
   "source": [
    "def largest_keyphrases(keyphrases):\n",
    "    # kps = sorted(keyphrases, key=lambda kp: (kp[1][1][1], kp[1][1][0]))\n",
    "    keyphrases = sorted(keyphrases, key=lambda kp: kp[1][1])\n",
    "    kps = [True]\n",
    "    prev_start, prev_end = float(\"inf\"), -1\n",
    "    for i, keyphrase in enumerate(keyphrases):\n",
    "        if not i < len(keyphrases) - 1:\n",
    "            break\n",
    "        print(keyphrase)\n",
    "        start, end = keyphrases[i+1][1][1]\n",
    "        if prev_start <= start and prev_end >= end:\n",
    "            kps.append(False)\n",
    "        else:\n",
    "            kps.append(True)\n",
    "    return kps\n",
    "    \n",
    "[kp for kp in largest_keyphrases(keyphrases)]"
   ]
  }
 ],
 "metadata": {
  "kernelspec": {
   "display_name": "Python 3",
   "language": "python",
   "name": "python3"
  },
  "language_info": {
   "codemirror_mode": {
    "name": "ipython",
    "version": 3
   },
   "file_extension": ".py",
   "mimetype": "text/x-python",
   "name": "python",
   "nbconvert_exporter": "python",
   "pygments_lexer": "ipython3",
   "version": "3.6.5"
  }
 },
 "nbformat": 4,
 "nbformat_minor": 2
}
