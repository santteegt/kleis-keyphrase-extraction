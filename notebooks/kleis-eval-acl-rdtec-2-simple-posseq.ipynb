{
 "cells": [
  {
   "cell_type": "code",
   "execution_count": 1,
   "metadata": {},
   "outputs": [],
   "source": [
    "import kleis.resources.dataset as kl\n",
    "from kleis.config.config import ACLRDTEC20"
   ]
  },
  {
   "cell_type": "code",
   "execution_count": 2,
   "metadata": {},
   "outputs": [],
   "source": [
    "acl_rd_tec_20 = kl.load_corpus(name=ACLRDTEC20)"
   ]
  },
  {
   "cell_type": "code",
   "execution_count": 3,
   "metadata": {},
   "outputs": [],
   "source": [
    "dataset = acl_rd_tec_20"
   ]
  },
  {
   "cell_type": "code",
   "execution_count": 4,
   "metadata": {},
   "outputs": [],
   "source": [
    "dataset.load_train(annotator=\"annotator2\")"
   ]
  },
  {
   "cell_type": "code",
   "execution_count": 5,
   "metadata": {},
   "outputs": [
    {
     "name": "stdout",
     "output_type": "stream",
     "text": [
      "ACL-RD-TEC 2.0 acl-rd-tec-2.0-annotator2 232 50\n"
     ]
    }
   ],
   "source": [
    "print(\"ACL-RD-TEC 2.0\", dataset.fullname, len(dataset.train), len(dataset.test))"
   ]
  },
  {
   "cell_type": "code",
   "execution_count": 6,
   "metadata": {},
   "outputs": [
    {
     "name": "stdout",
     "output_type": "stream",
     "text": [
      "+++++ 585\n",
      "P = 0.758621, R = 0.032836, $F_{1.0}$ = 0.062947\n",
      "+++++ 392\n",
      "P = 0.670455, R = 0.088060, $F_{1.0}$ = 0.155673\n",
      "+++++ 373\n",
      "P = 0.446384, R = 0.267164, $F_{1.0}$ = 0.334267\n",
      "+++++ 298\n",
      "P = 0.332016, R = 0.376119, $F_{1.0}$ = 0.352694\n",
      "+++++ 229\n",
      "P = 0.372981, R = 0.379104, $F_{1.0}$ = 0.376018\n",
      "+++++ 184\n",
      "P = 0.338443, R = 0.428358, $F_{1.0}$ = 0.378129\n",
      "+++++ 178\n",
      "P = 0.357871, R = 0.471642, $F_{1.0}$ = 0.406954\n",
      "+++++ 119\n",
      "P = 0.381347, R = 0.549254, $F_{1.0}$ = 0.450153\n",
      "+++++ 53\n",
      "P = 0.384929, R = 0.564179, $F_{1.0}$ = 0.457627\n",
      "+++++ 51\n",
      "P = 0.391261, R = 0.588060, $F_{1.0}$ = 0.469887\n",
      "+++++ 49\n",
      "P = 0.383954, R = 0.600000, $F_{1.0}$ = 0.468259\n",
      "+++++ 30\n",
      "P = 0.374775, R = 0.620896, $F_{1.0}$ = 0.467416\n",
      "+++++ 28\n",
      "P = 0.377273, R = 0.619403, $F_{1.0}$ = 0.468927\n",
      "+++++ 26\n",
      "P = 0.382805, R = 0.631343, $F_{1.0}$ = 0.476620\n",
      "+++++ 25\n",
      "P = 0.385520, R = 0.635821, $F_{1.0}$ = 0.480000\n",
      "+++++ 23\n",
      "P = 0.393883, R = 0.634328, $F_{1.0}$ = 0.485992\n",
      "+++++ 21\n",
      "P = 0.386667, R = 0.649254, $F_{1.0}$ = 0.484680\n",
      "+++++ 19\n",
      "P = 0.384135, R = 0.643284, $F_{1.0}$ = 0.481027\n",
      "+++++ 17\n",
      "P = 0.386525, R = 0.650746, $F_{1.0}$ = 0.484983\n",
      "+++++ 14\n",
      "P = 0.383362, R = 0.667164, $F_{1.0}$ = 0.486928\n",
      "+++++ 13\n",
      "P = 0.380172, R = 0.658209, $F_{1.0}$ = 0.481967\n",
      "+++++ 12\n",
      "P = 0.386784, R = 0.655224, $F_{1.0}$ = 0.486427\n",
      "+++++ 11\n",
      "P = 0.393327, R = 0.668657, $F_{1.0}$ = 0.495301\n",
      "+++++ 9\n",
      "P = 0.404444, R = 0.679104, $F_{1.0}$ = 0.506964\n",
      "+++++ 8\n",
      "P = 0.409253, R = 0.686567, $F_{1.0}$ = 0.512821\n",
      "+++++ 7\n",
      "P = 0.451389, R = 0.679104, $F_{1.0}$ = 0.542312\n",
      "+++++ 6\n",
      "P = 0.446394, R = 0.683582, $F_{1.0}$ = 0.540094\n",
      "+++++ 5\n",
      "P = 0.468172, R = 0.680597, $F_{1.0}$ = 0.554745\n",
      "+++++ 4\n",
      "P = 0.501092, R = 0.685075, $F_{1.0}$ = 0.578815\n",
      "+++++ 3\n",
      "P = 0.515660, R = 0.688060, $F_{1.0}$ = 0.589514\n",
      "+++++ 2\n",
      "P = 0.532164, R = 0.679104, $F_{1.0}$ = 0.596721\n",
      "+++++ 1\n",
      "P = 0.565563, R = 0.637313, $F_{1.0}$ = 0.599298\n"
     ]
    }
   ],
   "source": [
    "dataset.load_pos_sequences(filter_min_count=1)\n",
    "for threshold in sorted(dataset.filtering_counts(), reverse=True):\n",
    "    print(\"+++++\", threshold)\n",
    "    dataset.training(features_method=\"simple-posseq\", filter_min_count=threshold)\n",
    "    print(\"P = %f, R = %f, $F_{1.0}$ = %f\" % dataset.eval())"
   ]
  }
 ],
 "metadata": {
  "kernelspec": {
   "display_name": "Python 3",
   "language": "python",
   "name": "python3"
  },
  "language_info": {
   "codemirror_mode": {
    "name": "ipython",
    "version": 3
   },
   "file_extension": ".py",
   "mimetype": "text/x-python",
   "name": "python",
   "nbconvert_exporter": "python",
   "pygments_lexer": "ipython3",
   "version": "3.7.3"
  }
 },
 "nbformat": 4,
 "nbformat_minor": 2
}
