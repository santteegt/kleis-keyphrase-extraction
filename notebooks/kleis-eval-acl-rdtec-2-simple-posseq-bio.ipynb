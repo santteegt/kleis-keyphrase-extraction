{
 "cells": [
  {
   "cell_type": "code",
   "execution_count": 1,
   "metadata": {},
   "outputs": [],
   "source": [
    "import kleis.resources.dataset as kl\n",
    "from kleis.config.config import ACLRDTEC20"
   ]
  },
  {
   "cell_type": "code",
   "execution_count": 2,
   "metadata": {},
   "outputs": [],
   "source": [
    "acl_rd_tec_20 = kl.load_corpus(name=ACLRDTEC20)"
   ]
  },
  {
   "cell_type": "code",
   "execution_count": 3,
   "metadata": {},
   "outputs": [],
   "source": [
    "dataset = acl_rd_tec_20"
   ]
  },
  {
   "cell_type": "code",
   "execution_count": 4,
   "metadata": {},
   "outputs": [],
   "source": [
    "dataset.load_train(annotator=\"annotator2\")"
   ]
  },
  {
   "cell_type": "code",
   "execution_count": 5,
   "metadata": {},
   "outputs": [
    {
     "name": "stdout",
     "output_type": "stream",
     "text": [
      "ACL-RD-TEC 2.0 acl-rd-tec-2.0-annotator2 232 50\n"
     ]
    }
   ],
   "source": [
    "print(\"ACL-RD-TEC 2.0\", dataset.fullname, len(dataset.train), len(dataset.test))"
   ]
  },
  {
   "cell_type": "code",
   "execution_count": 6,
   "metadata": {},
   "outputs": [
    {
     "name": "stdout",
     "output_type": "stream",
     "text": [
      "+++++ 585\n"
     ]
    },
    {
     "name": "stderr",
     "output_type": "stream",
     "text": [
      "Info: Model not found /home/snov/kleis_data/models/acl-rd-tec-2.0-annotator2.585.simple-posseq.bio.ctx1.lblgeneric.pycrfsuite\n"
     ]
    },
    {
     "name": "stdout",
     "output_type": "stream",
     "text": [
      "P = 1.000000, R = 0.027211, $F_{1.0}$ = 0.052980\n",
      "+++++ 392\n"
     ]
    },
    {
     "name": "stderr",
     "output_type": "stream",
     "text": [
      "Info: Model not found /home/snov/kleis_data/models/acl-rd-tec-2.0-annotator2.392.simple-posseq.bio.ctx1.lblgeneric.pycrfsuite\n"
     ]
    },
    {
     "name": "stdout",
     "output_type": "stream",
     "text": [
      "P = 0.800000, R = 0.081633, $F_{1.0}$ = 0.148148\n",
      "+++++ 373\n"
     ]
    },
    {
     "name": "stderr",
     "output_type": "stream",
     "text": [
      "Info: Model not found /home/snov/kleis_data/models/acl-rd-tec-2.0-annotator2.373.simple-posseq.bio.ctx1.lblgeneric.pycrfsuite\n"
     ]
    },
    {
     "name": "stdout",
     "output_type": "stream",
     "text": [
      "P = 0.760000, R = 0.129252, $F_{1.0}$ = 0.220930\n",
      "+++++ 298\n"
     ]
    },
    {
     "name": "stderr",
     "output_type": "stream",
     "text": [
      "Info: Model not found /home/snov/kleis_data/models/acl-rd-tec-2.0-annotator2.298.simple-posseq.bio.ctx1.lblgeneric.pycrfsuite\n"
     ]
    },
    {
     "name": "stdout",
     "output_type": "stream",
     "text": [
      "P = 0.500000, R = 0.149660, $F_{1.0}$ = 0.230366\n",
      "+++++ 229\n"
     ]
    },
    {
     "name": "stderr",
     "output_type": "stream",
     "text": [
      "Info: Model not found /home/snov/kleis_data/models/acl-rd-tec-2.0-annotator2.229.simple-posseq.bio.ctx1.lblgeneric.pycrfsuite\n"
     ]
    },
    {
     "name": "stdout",
     "output_type": "stream",
     "text": [
      "P = 0.466667, R = 0.238095, $F_{1.0}$ = 0.315315\n",
      "+++++ 184\n"
     ]
    },
    {
     "name": "stderr",
     "output_type": "stream",
     "text": [
      "Info: Model not found /home/snov/kleis_data/models/acl-rd-tec-2.0-annotator2.184.simple-posseq.bio.ctx1.lblgeneric.pycrfsuite\n"
     ]
    },
    {
     "name": "stdout",
     "output_type": "stream",
     "text": [
      "P = 0.545455, R = 0.285714, $F_{1.0}$ = 0.375000\n",
      "+++++ 178\n"
     ]
    },
    {
     "name": "stderr",
     "output_type": "stream",
     "text": [
      "Info: Model not found /home/snov/kleis_data/models/acl-rd-tec-2.0-annotator2.178.simple-posseq.bio.ctx1.lblgeneric.pycrfsuite\n"
     ]
    },
    {
     "name": "stdout",
     "output_type": "stream",
     "text": [
      "P = 0.531915, R = 0.340136, $F_{1.0}$ = 0.414938\n",
      "+++++ 119\n"
     ]
    },
    {
     "name": "stderr",
     "output_type": "stream",
     "text": [
      "Info: Model not found /home/snov/kleis_data/models/acl-rd-tec-2.0-annotator2.119.simple-posseq.bio.ctx1.lblgeneric.pycrfsuite\n"
     ]
    },
    {
     "name": "stdout",
     "output_type": "stream",
     "text": [
      "P = 0.468531, R = 0.455782, $F_{1.0}$ = 0.462069\n",
      "+++++ 53\n"
     ]
    },
    {
     "name": "stderr",
     "output_type": "stream",
     "text": [
      "Info: Model not found /home/snov/kleis_data/models/acl-rd-tec-2.0-annotator2.53.simple-posseq.bio.ctx1.lblgeneric.pycrfsuite\n"
     ]
    },
    {
     "name": "stdout",
     "output_type": "stream",
     "text": [
      "P = 0.469799, R = 0.476190, $F_{1.0}$ = 0.472973\n",
      "+++++ 51\n"
     ]
    },
    {
     "name": "stderr",
     "output_type": "stream",
     "text": [
      "Info: Model not found /home/snov/kleis_data/models/acl-rd-tec-2.0-annotator2.51.simple-posseq.bio.ctx1.lblgeneric.pycrfsuite\n"
     ]
    },
    {
     "name": "stdout",
     "output_type": "stream",
     "text": [
      "P = 0.461039, R = 0.482993, $F_{1.0}$ = 0.471761\n",
      "+++++ 49\n"
     ]
    },
    {
     "name": "stderr",
     "output_type": "stream",
     "text": [
      "Info: Model not found /home/snov/kleis_data/models/acl-rd-tec-2.0-annotator2.49.simple-posseq.bio.ctx1.lblgeneric.pycrfsuite\n"
     ]
    },
    {
     "name": "stdout",
     "output_type": "stream",
     "text": [
      "P = 0.467949, R = 0.496599, $F_{1.0}$ = 0.481848\n",
      "+++++ 30\n"
     ]
    },
    {
     "name": "stderr",
     "output_type": "stream",
     "text": [
      "Info: Model not found /home/snov/kleis_data/models/acl-rd-tec-2.0-annotator2.30.simple-posseq.bio.ctx1.lblgeneric.pycrfsuite\n"
     ]
    },
    {
     "name": "stdout",
     "output_type": "stream",
     "text": [
      "P = 0.483871, R = 0.510204, $F_{1.0}$ = 0.496689\n",
      "+++++ 28\n"
     ]
    },
    {
     "name": "stderr",
     "output_type": "stream",
     "text": [
      "Info: Model not found /home/snov/kleis_data/models/acl-rd-tec-2.0-annotator2.28.simple-posseq.bio.ctx1.lblgeneric.pycrfsuite\n"
     ]
    },
    {
     "name": "stdout",
     "output_type": "stream",
     "text": [
      "P = 0.489655, R = 0.482993, $F_{1.0}$ = 0.486301\n",
      "+++++ 26\n"
     ]
    },
    {
     "name": "stderr",
     "output_type": "stream",
     "text": [
      "Info: Model not found /home/snov/kleis_data/models/acl-rd-tec-2.0-annotator2.26.simple-posseq.bio.ctx1.lblgeneric.pycrfsuite\n"
     ]
    },
    {
     "name": "stdout",
     "output_type": "stream",
     "text": [
      "P = 0.526316, R = 0.476190, $F_{1.0}$ = 0.500000\n",
      "+++++ 25\n"
     ]
    },
    {
     "name": "stderr",
     "output_type": "stream",
     "text": [
      "Info: Model not found /home/snov/kleis_data/models/acl-rd-tec-2.0-annotator2.25.simple-posseq.bio.ctx1.lblgeneric.pycrfsuite\n"
     ]
    },
    {
     "name": "stdout",
     "output_type": "stream",
     "text": [
      "P = 0.546154, R = 0.482993, $F_{1.0}$ = 0.512635\n",
      "+++++ 23\n"
     ]
    },
    {
     "name": "stderr",
     "output_type": "stream",
     "text": [
      "Info: Model not found /home/snov/kleis_data/models/acl-rd-tec-2.0-annotator2.23.simple-posseq.bio.ctx1.lblgeneric.pycrfsuite\n"
     ]
    },
    {
     "name": "stdout",
     "output_type": "stream",
     "text": [
      "P = 0.550388, R = 0.482993, $F_{1.0}$ = 0.514493\n",
      "+++++ 21\n"
     ]
    },
    {
     "name": "stderr",
     "output_type": "stream",
     "text": [
      "Info: Model not found /home/snov/kleis_data/models/acl-rd-tec-2.0-annotator2.21.simple-posseq.bio.ctx1.lblgeneric.pycrfsuite\n"
     ]
    },
    {
     "name": "stdout",
     "output_type": "stream",
     "text": [
      "P = 0.546099, R = 0.523810, $F_{1.0}$ = 0.534722\n",
      "+++++ 19\n"
     ]
    },
    {
     "name": "stderr",
     "output_type": "stream",
     "text": [
      "Info: Model not found /home/snov/kleis_data/models/acl-rd-tec-2.0-annotator2.19.simple-posseq.bio.ctx1.lblgeneric.pycrfsuite\n"
     ]
    },
    {
     "name": "stdout",
     "output_type": "stream",
     "text": [
      "P = 0.573643, R = 0.503401, $F_{1.0}$ = 0.536232\n",
      "+++++ 17\n"
     ]
    },
    {
     "name": "stderr",
     "output_type": "stream",
     "text": [
      "Info: Model not found /home/snov/kleis_data/models/acl-rd-tec-2.0-annotator2.17.simple-posseq.bio.ctx1.lblgeneric.pycrfsuite\n"
     ]
    },
    {
     "name": "stdout",
     "output_type": "stream",
     "text": [
      "P = 0.570312, R = 0.496599, $F_{1.0}$ = 0.530909\n",
      "+++++ 14\n"
     ]
    },
    {
     "name": "stderr",
     "output_type": "stream",
     "text": [
      "Info: Model not found /home/snov/kleis_data/models/acl-rd-tec-2.0-annotator2.14.simple-posseq.bio.ctx1.lblgeneric.pycrfsuite\n"
     ]
    },
    {
     "name": "stdout",
     "output_type": "stream",
     "text": [
      "P = 0.554745, R = 0.517007, $F_{1.0}$ = 0.535211\n",
      "+++++ 13\n"
     ]
    },
    {
     "name": "stderr",
     "output_type": "stream",
     "text": [
      "Info: Model not found /home/snov/kleis_data/models/acl-rd-tec-2.0-annotator2.13.simple-posseq.bio.ctx1.lblgeneric.pycrfsuite\n"
     ]
    },
    {
     "name": "stdout",
     "output_type": "stream",
     "text": [
      "P = 0.561538, R = 0.496599, $F_{1.0}$ = 0.527076\n",
      "+++++ 12\n"
     ]
    },
    {
     "name": "stderr",
     "output_type": "stream",
     "text": [
      "Info: Model not found /home/snov/kleis_data/models/acl-rd-tec-2.0-annotator2.12.simple-posseq.bio.ctx1.lblgeneric.pycrfsuite\n"
     ]
    },
    {
     "name": "stdout",
     "output_type": "stream",
     "text": [
      "P = 0.566929, R = 0.489796, $F_{1.0}$ = 0.525547\n",
      "+++++ 11\n"
     ]
    },
    {
     "name": "stderr",
     "output_type": "stream",
     "text": [
      "Info: Model not found /home/snov/kleis_data/models/acl-rd-tec-2.0-annotator2.11.simple-posseq.bio.ctx1.lblgeneric.pycrfsuite\n"
     ]
    },
    {
     "name": "stdout",
     "output_type": "stream",
     "text": [
      "P = 0.567376, R = 0.544218, $F_{1.0}$ = 0.555556\n",
      "+++++ 9\n"
     ]
    },
    {
     "name": "stderr",
     "output_type": "stream",
     "text": [
      "Info: Model not found /home/snov/kleis_data/models/acl-rd-tec-2.0-annotator2.9.simple-posseq.bio.ctx1.lblgeneric.pycrfsuite\n"
     ]
    },
    {
     "name": "stdout",
     "output_type": "stream",
     "text": [
      "P = 0.563380, R = 0.544218, $F_{1.0}$ = 0.553633\n",
      "+++++ 8\n"
     ]
    },
    {
     "name": "stderr",
     "output_type": "stream",
     "text": [
      "Info: Model not found /home/snov/kleis_data/models/acl-rd-tec-2.0-annotator2.8.simple-posseq.bio.ctx1.lblgeneric.pycrfsuite\n"
     ]
    },
    {
     "name": "stdout",
     "output_type": "stream",
     "text": [
      "P = 0.568345, R = 0.537415, $F_{1.0}$ = 0.552448\n",
      "+++++ 7\n"
     ]
    },
    {
     "name": "stderr",
     "output_type": "stream",
     "text": [
      "Info: Model not found /home/snov/kleis_data/models/acl-rd-tec-2.0-annotator2.7.simple-posseq.bio.ctx1.lblgeneric.pycrfsuite\n"
     ]
    },
    {
     "name": "stdout",
     "output_type": "stream",
     "text": [
      "P = 0.562044, R = 0.523810, $F_{1.0}$ = 0.542254\n",
      "+++++ 6\n"
     ]
    },
    {
     "name": "stderr",
     "output_type": "stream",
     "text": [
      "Info: Model not found /home/snov/kleis_data/models/acl-rd-tec-2.0-annotator2.6.simple-posseq.bio.ctx1.lblgeneric.pycrfsuite\n"
     ]
    },
    {
     "name": "stdout",
     "output_type": "stream",
     "text": [
      "P = 0.572519, R = 0.510204, $F_{1.0}$ = 0.539568\n",
      "+++++ 5\n"
     ]
    },
    {
     "name": "stderr",
     "output_type": "stream",
     "text": [
      "Info: Model not found /home/snov/kleis_data/models/acl-rd-tec-2.0-annotator2.5.simple-posseq.bio.ctx1.lblgeneric.pycrfsuite\n"
     ]
    },
    {
     "name": "stdout",
     "output_type": "stream",
     "text": [
      "P = 0.571429, R = 0.517007, $F_{1.0}$ = 0.542857\n",
      "+++++ 4\n"
     ]
    },
    {
     "name": "stderr",
     "output_type": "stream",
     "text": [
      "Info: Model not found /home/snov/kleis_data/models/acl-rd-tec-2.0-annotator2.4.simple-posseq.bio.ctx1.lblgeneric.pycrfsuite\n"
     ]
    },
    {
     "name": "stdout",
     "output_type": "stream",
     "text": [
      "P = 0.606838, R = 0.482993, $F_{1.0}$ = 0.537879\n",
      "+++++ 3\n"
     ]
    },
    {
     "name": "stderr",
     "output_type": "stream",
     "text": [
      "Info: Model not found /home/snov/kleis_data/models/acl-rd-tec-2.0-annotator2.3.simple-posseq.bio.ctx1.lblgeneric.pycrfsuite\n"
     ]
    },
    {
     "name": "stdout",
     "output_type": "stream",
     "text": [
      "P = 0.614679, R = 0.455782, $F_{1.0}$ = 0.523438\n",
      "+++++ 2\n"
     ]
    },
    {
     "name": "stderr",
     "output_type": "stream",
     "text": [
      "Info: Model not found /home/snov/kleis_data/models/acl-rd-tec-2.0-annotator2.2.simple-posseq.bio.ctx1.lblgeneric.pycrfsuite\n"
     ]
    },
    {
     "name": "stdout",
     "output_type": "stream",
     "text": [
      "P = 0.677083, R = 0.442177, $F_{1.0}$ = 0.534979\n",
      "+++++ 1\n"
     ]
    },
    {
     "name": "stderr",
     "output_type": "stream",
     "text": [
      "Info: Model not found /home/snov/kleis_data/models/acl-rd-tec-2.0-annotator2.1.simple-posseq.bio.ctx1.lblgeneric.pycrfsuite\n"
     ]
    },
    {
     "name": "stdout",
     "output_type": "stream",
     "text": [
      "P = 0.691358, R = 0.380952, $F_{1.0}$ = 0.491228\n"
     ]
    }
   ],
   "source": [
    "dataset.load_pos_sequences(filter_min_count=1)\n",
    "for threshold in sorted(dataset.filtering_counts(), reverse=True):\n",
    "    print(\"+++++\", threshold)\n",
    "    dataset.training(features_method=\"simple-posseq\", filter_min_count=threshold, tagging_notation=\"BIO\")\n",
    "    print(\"P = %f, R = %f, $F_{1.0}$ = %f\" % dataset.eval())"
   ]
  }
 ],
 "metadata": {
  "kernelspec": {
   "display_name": "Python 3",
   "language": "python",
   "name": "python3"
  },
  "language_info": {
   "codemirror_mode": {
    "name": "ipython",
    "version": 3
   },
   "file_extension": ".py",
   "mimetype": "text/x-python",
   "name": "python",
   "nbconvert_exporter": "python",
   "pygments_lexer": "ipython3",
   "version": "3.7.3"
  }
 },
 "nbformat": 4,
 "nbformat_minor": 2
}
