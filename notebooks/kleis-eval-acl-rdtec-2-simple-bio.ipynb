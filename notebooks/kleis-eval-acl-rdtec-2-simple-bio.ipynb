{
 "cells": [
  {
   "cell_type": "code",
   "execution_count": 1,
   "metadata": {},
   "outputs": [],
   "source": [
    "import kleis.resources.dataset as kl\n",
    "from kleis.config.config import ACLRDTEC20"
   ]
  },
  {
   "cell_type": "code",
   "execution_count": 2,
   "metadata": {},
   "outputs": [],
   "source": [
    "acl_rd_tec_20 = kl.load_corpus(name=ACLRDTEC20)"
   ]
  },
  {
   "cell_type": "code",
   "execution_count": 3,
   "metadata": {},
   "outputs": [],
   "source": [
    "dataset = acl_rd_tec_20"
   ]
  },
  {
   "cell_type": "code",
   "execution_count": 4,
   "metadata": {},
   "outputs": [],
   "source": [
    "dataset.load_train(annotator=\"annotator2\")"
   ]
  },
  {
   "cell_type": "code",
   "execution_count": 5,
   "metadata": {},
   "outputs": [
    {
     "name": "stdout",
     "output_type": "stream",
     "text": [
      "ACL-RD-TEC 2.0 acl-rd-tec-2.0-annotator2 232 50\n"
     ]
    }
   ],
   "source": [
    "print(\"ACL-RD-TEC 2.0\", dataset.fullname, len(dataset.train), len(dataset.test))"
   ]
  },
  {
   "cell_type": "code",
   "execution_count": 6,
   "metadata": {},
   "outputs": [
    {
     "name": "stdout",
     "output_type": "stream",
     "text": [
      "+++++ 585\n"
     ]
    },
    {
     "name": "stderr",
     "output_type": "stream",
     "text": [
      "Info: Model not found /home/snov/kleis_data/models/acl-rd-tec-2.0-annotator2.585.simple.bio.ctx1.lblgeneric.pycrfsuite\n"
     ]
    },
    {
     "name": "stdout",
     "output_type": "stream",
     "text": [
      "P = 0.625000, R = 0.034014, $F_{1.0}$ = 0.064516\n",
      "+++++ 392\n"
     ]
    },
    {
     "name": "stderr",
     "output_type": "stream",
     "text": [
      "Info: Model not found /home/snov/kleis_data/models/acl-rd-tec-2.0-annotator2.392.simple.bio.ctx1.lblgeneric.pycrfsuite\n"
     ]
    },
    {
     "name": "stdout",
     "output_type": "stream",
     "text": [
      "P = 0.722222, R = 0.088435, $F_{1.0}$ = 0.157576\n",
      "+++++ 373\n"
     ]
    },
    {
     "name": "stderr",
     "output_type": "stream",
     "text": [
      "Info: Model not found /home/snov/kleis_data/models/acl-rd-tec-2.0-annotator2.373.simple.bio.ctx1.lblgeneric.pycrfsuite\n"
     ]
    },
    {
     "name": "stdout",
     "output_type": "stream",
     "text": [
      "P = 0.676471, R = 0.156463, $F_{1.0}$ = 0.254144\n",
      "+++++ 298\n"
     ]
    },
    {
     "name": "stderr",
     "output_type": "stream",
     "text": [
      "Info: Model not found /home/snov/kleis_data/models/acl-rd-tec-2.0-annotator2.298.simple.bio.ctx1.lblgeneric.pycrfsuite\n"
     ]
    },
    {
     "name": "stdout",
     "output_type": "stream",
     "text": [
      "P = 0.636364, R = 0.190476, $F_{1.0}$ = 0.293194\n",
      "+++++ 229\n"
     ]
    },
    {
     "name": "stderr",
     "output_type": "stream",
     "text": [
      "Info: Model not found /home/snov/kleis_data/models/acl-rd-tec-2.0-annotator2.229.simple.bio.ctx1.lblgeneric.pycrfsuite\n"
     ]
    },
    {
     "name": "stdout",
     "output_type": "stream",
     "text": [
      "P = 0.641509, R = 0.231293, $F_{1.0}$ = 0.340000\n",
      "+++++ 184\n"
     ]
    },
    {
     "name": "stderr",
     "output_type": "stream",
     "text": [
      "Info: Model not found /home/snov/kleis_data/models/acl-rd-tec-2.0-annotator2.184.simple.bio.ctx1.lblgeneric.pycrfsuite\n"
     ]
    },
    {
     "name": "stdout",
     "output_type": "stream",
     "text": [
      "P = 0.694915, R = 0.278912, $F_{1.0}$ = 0.398058\n",
      "+++++ 178\n"
     ]
    },
    {
     "name": "stderr",
     "output_type": "stream",
     "text": [
      "Info: Model not found /home/snov/kleis_data/models/acl-rd-tec-2.0-annotator2.178.simple.bio.ctx1.lblgeneric.pycrfsuite\n"
     ]
    },
    {
     "name": "stdout",
     "output_type": "stream",
     "text": [
      "P = 0.652174, R = 0.306122, $F_{1.0}$ = 0.416667\n",
      "+++++ 119\n"
     ]
    },
    {
     "name": "stderr",
     "output_type": "stream",
     "text": [
      "Info: Model not found /home/snov/kleis_data/models/acl-rd-tec-2.0-annotator2.119.simple.bio.ctx1.lblgeneric.pycrfsuite\n"
     ]
    },
    {
     "name": "stdout",
     "output_type": "stream",
     "text": [
      "P = 0.693333, R = 0.353741, $F_{1.0}$ = 0.468468\n",
      "+++++ 53\n"
     ]
    },
    {
     "name": "stderr",
     "output_type": "stream",
     "text": [
      "Info: Model not found /home/snov/kleis_data/models/acl-rd-tec-2.0-annotator2.53.simple.bio.ctx1.lblgeneric.pycrfsuite\n"
     ]
    },
    {
     "name": "stdout",
     "output_type": "stream",
     "text": [
      "P = 0.700000, R = 0.380952, $F_{1.0}$ = 0.493392\n",
      "+++++ 51\n"
     ]
    },
    {
     "name": "stderr",
     "output_type": "stream",
     "text": [
      "Info: Model not found /home/snov/kleis_data/models/acl-rd-tec-2.0-annotator2.51.simple.bio.ctx1.lblgeneric.pycrfsuite\n"
     ]
    },
    {
     "name": "stdout",
     "output_type": "stream",
     "text": [
      "P = 0.721519, R = 0.387755, $F_{1.0}$ = 0.504425\n",
      "+++++ 49\n"
     ]
    },
    {
     "name": "stderr",
     "output_type": "stream",
     "text": [
      "Info: Model not found /home/snov/kleis_data/models/acl-rd-tec-2.0-annotator2.49.simple.bio.ctx1.lblgeneric.pycrfsuite\n"
     ]
    },
    {
     "name": "stdout",
     "output_type": "stream",
     "text": [
      "P = 0.703704, R = 0.387755, $F_{1.0}$ = 0.500000\n",
      "+++++ 30\n"
     ]
    },
    {
     "name": "stderr",
     "output_type": "stream",
     "text": [
      "Info: Model not found /home/snov/kleis_data/models/acl-rd-tec-2.0-annotator2.30.simple.bio.ctx1.lblgeneric.pycrfsuite\n"
     ]
    },
    {
     "name": "stdout",
     "output_type": "stream",
     "text": [
      "P = 0.708861, R = 0.380952, $F_{1.0}$ = 0.495575\n",
      "+++++ 28\n"
     ]
    },
    {
     "name": "stderr",
     "output_type": "stream",
     "text": [
      "Info: Model not found /home/snov/kleis_data/models/acl-rd-tec-2.0-annotator2.28.simple.bio.ctx1.lblgeneric.pycrfsuite\n"
     ]
    },
    {
     "name": "stdout",
     "output_type": "stream",
     "text": [
      "P = 0.708861, R = 0.380952, $F_{1.0}$ = 0.495575\n",
      "+++++ 26\n"
     ]
    },
    {
     "name": "stderr",
     "output_type": "stream",
     "text": [
      "Info: Model not found /home/snov/kleis_data/models/acl-rd-tec-2.0-annotator2.26.simple.bio.ctx1.lblgeneric.pycrfsuite\n"
     ]
    },
    {
     "name": "stdout",
     "output_type": "stream",
     "text": [
      "P = 0.705128, R = 0.374150, $F_{1.0}$ = 0.488889\n",
      "+++++ 25\n"
     ]
    },
    {
     "name": "stderr",
     "output_type": "stream",
     "text": [
      "Info: Model not found /home/snov/kleis_data/models/acl-rd-tec-2.0-annotator2.25.simple.bio.ctx1.lblgeneric.pycrfsuite\n"
     ]
    },
    {
     "name": "stdout",
     "output_type": "stream",
     "text": [
      "P = 0.692308, R = 0.367347, $F_{1.0}$ = 0.480000\n",
      "+++++ 23\n"
     ]
    },
    {
     "name": "stderr",
     "output_type": "stream",
     "text": [
      "Info: Model not found /home/snov/kleis_data/models/acl-rd-tec-2.0-annotator2.23.simple.bio.ctx1.lblgeneric.pycrfsuite\n"
     ]
    },
    {
     "name": "stdout",
     "output_type": "stream",
     "text": [
      "P = 0.692308, R = 0.367347, $F_{1.0}$ = 0.480000\n",
      "+++++ 21\n"
     ]
    },
    {
     "name": "stderr",
     "output_type": "stream",
     "text": [
      "Info: Model not found /home/snov/kleis_data/models/acl-rd-tec-2.0-annotator2.21.simple.bio.ctx1.lblgeneric.pycrfsuite\n"
     ]
    },
    {
     "name": "stdout",
     "output_type": "stream",
     "text": [
      "P = 0.708861, R = 0.380952, $F_{1.0}$ = 0.495575\n",
      "+++++ 19\n"
     ]
    },
    {
     "name": "stderr",
     "output_type": "stream",
     "text": [
      "Info: Model not found /home/snov/kleis_data/models/acl-rd-tec-2.0-annotator2.19.simple.bio.ctx1.lblgeneric.pycrfsuite\n"
     ]
    },
    {
     "name": "stdout",
     "output_type": "stream",
     "text": [
      "P = 0.696203, R = 0.374150, $F_{1.0}$ = 0.486726\n",
      "+++++ 17\n"
     ]
    },
    {
     "name": "stderr",
     "output_type": "stream",
     "text": [
      "Info: Model not found /home/snov/kleis_data/models/acl-rd-tec-2.0-annotator2.17.simple.bio.ctx1.lblgeneric.pycrfsuite\n"
     ]
    },
    {
     "name": "stdout",
     "output_type": "stream",
     "text": [
      "P = 0.692308, R = 0.367347, $F_{1.0}$ = 0.480000\n",
      "+++++ 14\n"
     ]
    },
    {
     "name": "stderr",
     "output_type": "stream",
     "text": [
      "Info: Model not found /home/snov/kleis_data/models/acl-rd-tec-2.0-annotator2.14.simple.bio.ctx1.lblgeneric.pycrfsuite\n"
     ]
    },
    {
     "name": "stdout",
     "output_type": "stream",
     "text": [
      "P = 0.716049, R = 0.394558, $F_{1.0}$ = 0.508772\n",
      "+++++ 13\n"
     ]
    },
    {
     "name": "stderr",
     "output_type": "stream",
     "text": [
      "Info: Model not found /home/snov/kleis_data/models/acl-rd-tec-2.0-annotator2.13.simple.bio.ctx1.lblgeneric.pycrfsuite\n"
     ]
    },
    {
     "name": "stdout",
     "output_type": "stream",
     "text": [
      "P = 0.710843, R = 0.401361, $F_{1.0}$ = 0.513043\n",
      "+++++ 12\n"
     ]
    },
    {
     "name": "stderr",
     "output_type": "stream",
     "text": [
      "Info: Model not found /home/snov/kleis_data/models/acl-rd-tec-2.0-annotator2.12.simple.bio.ctx1.lblgeneric.pycrfsuite\n"
     ]
    },
    {
     "name": "stdout",
     "output_type": "stream",
     "text": [
      "P = 0.710843, R = 0.401361, $F_{1.0}$ = 0.513043\n",
      "+++++ 11\n"
     ]
    },
    {
     "name": "stderr",
     "output_type": "stream",
     "text": [
      "Info: Model not found /home/snov/kleis_data/models/acl-rd-tec-2.0-annotator2.11.simple.bio.ctx1.lblgeneric.pycrfsuite\n"
     ]
    },
    {
     "name": "stdout",
     "output_type": "stream",
     "text": [
      "P = 0.686047, R = 0.401361, $F_{1.0}$ = 0.506438\n",
      "+++++ 9\n"
     ]
    },
    {
     "name": "stderr",
     "output_type": "stream",
     "text": [
      "Info: Model not found /home/snov/kleis_data/models/acl-rd-tec-2.0-annotator2.9.simple.bio.ctx1.lblgeneric.pycrfsuite\n"
     ]
    },
    {
     "name": "stdout",
     "output_type": "stream",
     "text": [
      "P = 0.702381, R = 0.401361, $F_{1.0}$ = 0.510823\n",
      "+++++ 8\n"
     ]
    },
    {
     "name": "stderr",
     "output_type": "stream",
     "text": [
      "Info: Model not found /home/snov/kleis_data/models/acl-rd-tec-2.0-annotator2.8.simple.bio.ctx1.lblgeneric.pycrfsuite\n"
     ]
    },
    {
     "name": "stdout",
     "output_type": "stream",
     "text": [
      "P = 0.686047, R = 0.401361, $F_{1.0}$ = 0.506438\n",
      "+++++ 7\n"
     ]
    },
    {
     "name": "stderr",
     "output_type": "stream",
     "text": [
      "Info: Model not found /home/snov/kleis_data/models/acl-rd-tec-2.0-annotator2.7.simple.bio.ctx1.lblgeneric.pycrfsuite\n"
     ]
    },
    {
     "name": "stdout",
     "output_type": "stream",
     "text": [
      "P = 0.705882, R = 0.408163, $F_{1.0}$ = 0.517241\n",
      "+++++ 6\n"
     ]
    },
    {
     "name": "stderr",
     "output_type": "stream",
     "text": [
      "Info: Model not found /home/snov/kleis_data/models/acl-rd-tec-2.0-annotator2.6.simple.bio.ctx1.lblgeneric.pycrfsuite\n"
     ]
    },
    {
     "name": "stdout",
     "output_type": "stream",
     "text": [
      "P = 0.685393, R = 0.414966, $F_{1.0}$ = 0.516949\n",
      "+++++ 5\n"
     ]
    },
    {
     "name": "stderr",
     "output_type": "stream",
     "text": [
      "Info: Model not found /home/snov/kleis_data/models/acl-rd-tec-2.0-annotator2.5.simple.bio.ctx1.lblgeneric.pycrfsuite\n"
     ]
    },
    {
     "name": "stdout",
     "output_type": "stream",
     "text": [
      "P = 0.685393, R = 0.414966, $F_{1.0}$ = 0.516949\n",
      "+++++ 4\n"
     ]
    },
    {
     "name": "stderr",
     "output_type": "stream",
     "text": [
      "Info: Model not found /home/snov/kleis_data/models/acl-rd-tec-2.0-annotator2.4.simple.bio.ctx1.lblgeneric.pycrfsuite\n"
     ]
    },
    {
     "name": "stdout",
     "output_type": "stream",
     "text": [
      "P = 0.695652, R = 0.435374, $F_{1.0}$ = 0.535565\n",
      "+++++ 3\n"
     ]
    },
    {
     "name": "stderr",
     "output_type": "stream",
     "text": [
      "Info: Model not found /home/snov/kleis_data/models/acl-rd-tec-2.0-annotator2.3.simple.bio.ctx1.lblgeneric.pycrfsuite\n"
     ]
    },
    {
     "name": "stdout",
     "output_type": "stream",
     "text": [
      "P = 0.677778, R = 0.414966, $F_{1.0}$ = 0.514768\n",
      "+++++ 2\n"
     ]
    },
    {
     "name": "stderr",
     "output_type": "stream",
     "text": [
      "Info: Model not found /home/snov/kleis_data/models/acl-rd-tec-2.0-annotator2.2.simple.bio.ctx1.lblgeneric.pycrfsuite\n"
     ]
    },
    {
     "name": "stdout",
     "output_type": "stream",
     "text": [
      "P = 0.730337, R = 0.442177, $F_{1.0}$ = 0.550847\n",
      "+++++ 1\n"
     ]
    },
    {
     "name": "stderr",
     "output_type": "stream",
     "text": [
      "Info: Model not found /home/snov/kleis_data/models/acl-rd-tec-2.0-annotator2.1.simple.bio.ctx1.lblgeneric.pycrfsuite\n"
     ]
    },
    {
     "name": "stdout",
     "output_type": "stream",
     "text": [
      "P = 0.738636, R = 0.442177, $F_{1.0}$ = 0.553191\n"
     ]
    }
   ],
   "source": [
    "dataset.load_pos_sequences(filter_min_count=1)\n",
    "for threshold in sorted(dataset.filtering_counts(), reverse=True):\n",
    "    print(\"+++++\", threshold)\n",
    "    dataset.training(filter_min_count=threshold, tagging_notation=\"BIO\")\n",
    "    print(\"P = %f, R = %f, $F_{1.0}$ = %f\" % dataset.eval())"
   ]
  }
 ],
 "metadata": {
  "kernelspec": {
   "display_name": "Python 3",
   "language": "python",
   "name": "python3"
  },
  "language_info": {
   "codemirror_mode": {
    "name": "ipython",
    "version": 3
   },
   "file_extension": ".py",
   "mimetype": "text/x-python",
   "name": "python",
   "nbconvert_exporter": "python",
   "pygments_lexer": "ipython3",
   "version": "3.7.3"
  }
 },
 "nbformat": 4,
 "nbformat_minor": 2
}
