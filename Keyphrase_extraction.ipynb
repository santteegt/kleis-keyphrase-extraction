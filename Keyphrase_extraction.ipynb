{
 "cells": [
  {
   "cell_type": "code",
   "execution_count": 8,
   "metadata": {},
   "outputs": [],
   "source": [
    "import resources.dataset as rd\n",
    "from nltk.tokenize.treebank import TreebankWordTokenizer\n",
    "from nltk.tag.perceptron import PerceptronTagger"
   ]
  },
  {
   "cell_type": "code",
   "execution_count": 2,
   "metadata": {},
   "outputs": [
    {
     "name": "stdout",
     "output_type": "stream",
     "text": [
      "<resources.semeval2017.SemEval2017 object at 0x7fc029c9f710>\n"
     ]
    }
   ],
   "source": [
    "default_dataset = rd.load_corpus()\n",
    "print(default_dataset)"
   ]
  },
  {
   "cell_type": "code",
   "execution_count": 9,
   "metadata": {},
   "outputs": [
    {
     "name": "stdout",
     "output_type": "stream",
     "text": [
      "Name: semeval2017-task10\n",
      "Config: {'train-labeled': 'corpus/semeval2017-task10/train2/', 'dev-labeled': 'corpus/semeval2017-task10/dev/', 'test-unlabeled': 'corpus/semeval2017-task10/scienceie2017_test_unlabelled/', 'test-labeled': 'corpus/semeval2017-task10/semeval_articles_test/'}\n",
      "len(Train): 349\n",
      "len(Dev): 50\n",
      "len(Test): 100\n"
     ]
    }
   ],
   "source": [
    "print(\"Name:\", default_dataset.name)\n",
    "print(\"Config:\", default_dataset.config)\n",
    "\n",
    "print(\"len(Train):\", len(default_dataset.train))\n",
    "# print(\"Train:\", default_dataset.train.popitem()[1][\"raw\"][\"txt\"])\n",
    "\n",
    "print(\"len(Dev):\", len(default_dataset.dev))\n",
    "# print(\"Dev:\", default_dataset.dev.popitem()[1][\"raw\"][\"txt\"])\n",
    "\n",
    "print(\"len(Test):\", len(default_dataset.test))\n",
    "# print(\"Test:\", default_dataset.test.popitem()[1][\"raw\"][\"txt\"])"
   ]
  },
  {
   "cell_type": "code",
   "execution_count": 18,
   "metadata": {},
   "outputs": [
    {
     "name": "stdout",
     "output_type": "stream",
     "text": [
      "([('A', 'DT', (0, 1), None), ('3D', 'CD', (2, 4), None), ('finite', 'JJ', (5, 11), None), ('element', 'NN', (12, 19), None), ('based', 'VBN', (20, 25), None), ('(', '(', (26, 27), None), ('FEM', 'NNP', (27, 30), None), (')', ')', (30, 31), None), ('COMSOL', 'NNP', (32, 38), None), ('capacitance', 'NN', (39, 50), None), ('analysis', 'NN', (51, 59), None), ('is', 'VBZ', (60, 62), None), ('combined', 'VBN', (63, 71), None), ('with', 'IN', (72, 76), None), ('Monte', 'NNP', (77, 82), None), ('Carlo', 'NNP', (83, 88), None), ('single-electron', 'NN', (89, 104), None), ('circuit', 'NN', (105, 112), None), ('simulations', 'NNS', (113, 124), None), ('to', 'TO', (125, 127), None), ('model', 'VB', (128, 133), None), ('device', 'JJ', (134, 140), None), ('operations', 'NNS', (141, 151), None), ('during', 'IN', (152, 158), None), ('single', 'JJ', (159, 165), None), ('electron', 'NN', (166, 174), None), ('detection.', 'VBD', (175, 185), None), ('The', 'DT', (186, 189), None), ('3D', 'CD', (190, 192), None), ('structural', 'JJ', (193, 203), None), ('data', 'NNS', (204, 208), None), ('(', '(', (209, 210), None), ('Fig.', 'NNP', (210, 214), None), ('1b', 'CD', (215, 217), None), (')', ')', (217, 218), None), ('of', 'IN', (219, 221), None), ('the', 'DT', (222, 225), None), ('nanoscale', 'JJ', (226, 235), None), ('DQD', 'NNP', (236, 239), None), ('pair', 'NN', (240, 244), None), ('and', 'CC', (245, 248), None), ('multiple', 'JJ', (249, 257), None), ('gate', 'NN', (258, 262), None), ('electrodes', 'NNS', (263, 273), None), ('are', 'VBP', (274, 277), None), ('precisely', 'RB', (278, 287), None), ('input', 'VBN', (288, 293), None), ('into', 'IN', (294, 298), None), ('COMSOL', 'NNP', (299, 305), None), ('’', 'NNP', (305, 306), None), ('s', 'VBD', (306, 307), None), ('FEM-based', 'JJ', (308, 317), None), ('electrostatics', 'NNS', (318, 332), None), ('simulator.', 'JJ', (333, 343), None), ('Capacitances', 'NNPS', (344, 356), None), ('between', 'IN', (357, 364), None), ('different', 'JJ', (365, 374), None), ('device', 'NN', (375, 381), None), ('components', 'NNS', (382, 392), None), ('are', 'VBP', (393, 396), None), ('then', 'RB', (397, 401), None), ('extracted', 'VBN', (402, 411), None), ('and', 'CC', (412, 415), None), ('fed', 'VBN', (416, 419), None), ('into', 'IN', (420, 424), None), ('the', 'DT', (425, 428), None), ('well-tested', 'JJ', (429, 440), None), ('single', 'JJ', (441, 447), None), ('electron', 'NN', (448, 456), None), ('circuit', 'NN', (457, 464), None), ('simulator', 'NN', (465, 474), None), ('SETSPICE', 'NNP', (475, 483), None), ('[', 'VBD', (484, 485), None), ('11', 'CD', (485, 487), None), (']', 'NNP', (487, 488), None), (',', ',', (488, 489), None), ('based', 'VBN', (490, 495), None), ('on', 'IN', (496, 498), None), ('the', 'DT', (499, 502), None), ('orthodox', 'JJ', (503, 511), None), ('theory', 'NN', (512, 518), None), ('of', 'IN', (519, 521), None), ('single', 'JJ', (522, 528), None), ('electron', 'NN', (529, 537), None), ('tunnelling', 'VBG', (538, 548), None), ('[', '$', (549, 550), None), ('12', 'CD', (550, 552), None), (']', 'NNP', (552, 553), None), ('.', '.', (553, 554), None), ('For', 'IN', (555, 558), None), ('our', 'PRP$', (559, 562), None), ('target', 'NN', (563, 569), None), ('d1', 'NN', (570, 572), None), ('of', 'IN', (573, 575), None), ('60nm', 'CD', (576, 580), None), (',', ',', (580, 581), None), ('simulation', 'NN', (582, 592), None), ('results', 'NNS', (593, 600), None), ('(', '(', (601, 602), None), ('Fig.', 'NNP', (602, 606), None), ('1c', 'CD', (607, 609), None), (')', ')', (609, 610), None), ('showed', 'VBD', (611, 617), None), ('that', 'IN', (618, 622), None), ('as', 'IN', (623, 625), None), ('we', 'PRP', (626, 628), None), ('sweep', 'VBP', (629, 634), None), ('the', 'DT', (635, 638), None), ('voltage', 'NN', (639, 646), None), ('applied', 'VBN', (647, 654), None), ('on', 'IN', (655, 657), None), ('gate', 'NN', (658, 662), None), ('G1', 'NNP', (663, 665), None), (',', ',', (665, 666), None), ('VG1', 'NNP', (667, 670), None), (',', ',', (670, 671), None), ('single', 'JJ', (672, 678), None), ('electron', 'NN', (679, 687), None), ('tunnelling', 'VBG', (688, 698), None), ('into', 'IN', (699, 703), None), ('the', 'DT', (704, 707), None), ('turnstile', 'JJ', (708, 717), None), ('’', 'JJ', (717, 718), None), ('s', 'NN', (718, 719), None), ('two', 'CD', (720, 723), None), ('QDs', 'NNP', (724, 727), None), ('should', 'MD', (728, 734), None), ('generate', 'VB', (735, 743), None), ('shifts', 'NNS', (744, 750), None), ('in', 'IN', (751, 753), None), ('the', 'DT', (754, 757), None), ('electrometer', 'NN', (758, 770), None), ('current', 'JJ', (771, 778), None), (',', ',', (778, 779), None), ('IDS', 'NNP', (780, 783), None), (',', ',', (783, 784), None), ('of', 'IN', (785, 787), None), ('tens', 'NNS', (788, 792), None), ('of', 'IN', (793, 795), None), ('pA.', 'NN', (796, 799), None), ('This', 'DT', (800, 804), None), ('is', 'VBZ', (805, 807), None), ('well', 'RB', (808, 812), None), ('within', 'IN', (813, 819), None), ('the', 'DT', (820, 823), None), ('charge', 'NN', (824, 830), None), ('sensitivity', 'NN', (831, 842), None), ('of', 'IN', (843, 845), None), ('DQD', 'NNP', (846, 849), None), ('electrometer', 'NN', (850, 862), None), ('[', 'VBD', (863, 864), None), ('6', 'CD', (864, 865), None), (']', 'NN', (865, 866), None), ('and', 'CC', (867, 870), None), ('consistent', 'NN', (871, 881), None), ('to', 'TO', (882, 884), None), ('the', 'DT', (885, 888), None), ('same', 'JJ', (889, 893), None), ('order', 'NN', (894, 899), None), ('of', 'IN', (900, 902), None), ('magnitude', 'NN', (903, 912), None), ('with', 'IN', (913, 917), None), ('previous', 'JJ', (918, 926), None), ('work', 'NN', (927, 931), None), ('in', 'IN', (932, 934), None), ('single', 'JJ', (935, 941), None), ('electron', 'NN', (942, 950), None), ('detection', 'NN', (951, 960), None), ('[', 'VBD', (961, 962), None), ('13', 'CD', (962, 964), None), (']', 'NN', (964, 965), None), ('.', '.', (965, 966), None), ('In', 'IN', (967, 969), None), ('addition', 'NN', (970, 978), None), (',', ',', (978, 979), None), ('the', 'DT', (980, 983), None), ('gate', 'NN', (984, 988), None), ('to', 'TO', (989, 991), None), ('QD', 'NNP', (992, 994), None), ('capacitive', 'JJ', (995, 1005), None), ('coupling', 'NN', (1006, 1014), None), ('appear', 'VB', (1015, 1021), None), ('to', 'TO', (1022, 1024), None), ('be', 'VB', (1025, 1027), None), ('sufficient', 'JJ', (1028, 1038), None), ('for', 'IN', (1039, 1042), None), ('the', 'DT', (1043, 1046), None), ('control', 'NN', (1047, 1054), None), ('of', 'IN', (1055, 1057), None), ('QD', 'NNP', (1058, 1060), None), ('occupations', 'NNS', (1061, 1072), None), ('down', 'RB', (1073, 1077), None), ('to', 'TO', (1078, 1080), None), ('the', 'DT', (1081, 1084), None), ('single', 'JJ', (1085, 1091), None), ('electron', 'NN', (1092, 1100), None), ('limit', 'NN', (1101, 1106), None), (',', ',', (1106, 1107), None), ('allowing', 'VBG', (1108, 1116), None), ('for', 'IN', (1117, 1120), None), ('future', 'JJ', (1121, 1127), None), ('manipulation', 'NN', (1128, 1140), None), ('of', 'IN', (1141, 1143), None), ('single', 'JJ', (1144, 1150), None), ('electron', 'NN', (1151, 1159), None), ('spins', 'NNS', (1160, 1165), None), ('in', 'IN', (1166, 1168), None), ('qubit', 'NN', (1169, 1174), None), ('research', 'NN', (1175, 1183), None), ('.', '.', (1183, 1184), None)], [['T1', 'Task', ['128', '184'], 'model device operations during single electron detection'], ['T5', 'Material', ['563', '572'], 'target d1'], ['T7', 'Task', ['935', '960'], 'single electron detection'], ['T2', 'Process', ['2', '59'], '3D finite element based (FEM) COMSOL capacitance analysis'], ['T8', 'Process', ['77', '124'], 'Monte Carlo single-electron circuit simulations'], ['T9', 'Process', ['159', '184'], 'single electron detection'], ['T3', 'Material', ['190', '208'], '3D structural data'], ['T10', 'Material', ['226', '244'], 'nanoscale DQD pair'], ['T11', 'Material', ['249', '273'], 'multiple gate electrodes'], ['T12', 'Material', ['299', '342'], 'COMSOL’s FEM-based electrostatics simulator'], ['T4', 'Material', ['375', '392'], 'device components'], ['T13', 'Material', ['429', '474'], 'well-tested single electron circuit simulator'], ['T14', 'Material', ['475', '483'], 'SETSPICE'], ['T15', 'Process', ['522', '548'], 'single electron tunnelling'], ['T16', 'Task', ['503', '518'], 'orthodox theory'], ['T6', 'Process', ['582', '592'], 'simulation'], ['T17', 'Material', ['658', '665'], 'gate G1'], ['T18', 'Material', ['667', '670'], 'VG1'], ['T19', 'Process', ['672', '698'], 'single electron tunnelling'], ['T20', 'Material', ['708', '727'], 'turnstile’s two QDs'], ['T21', 'Process', ['744', '778'], 'shifts in the electrometer current'], ['T22', 'Material', ['780', '783'], 'IDS'], ['T23', 'Material', ['758', '778'], 'electrometer current'], ['T24', 'Material', ['846', '862'], 'DQD electrometer'], ['T25', 'Material', ['984', '988'], 'gate'], ['T26', 'Process', ['992', '1014'], 'QD capacitive coupling'], ['T27', 'Process', ['1047', '1072'], 'control of QD occupations'], ['T28', 'Task', ['1128', '1165'], 'manipulation of single electron spins'], ['T29', 'Task', ['1169', '1183'], 'qubit research'], ['T30', 'Process', ['1144', '1165'], 'single electron spins']])\n"
     ]
    }
   ],
   "source": [
    "def parse_brat_content(brat_content, lang=\"en\"):\n",
    "    \"\"\"Receive raw content in brat format and\n",
    "    return list with parsed annotations\"\"\"\n",
    "    annotations = None\n",
    "    text = brat_content[\"txt\"]\n",
    "    terms = list(\n",
    "        map(lambda t:  t[:1] + t[1].split()[:1] + [t[1].split()[1:]] + t[2:],\n",
    "            map(lambda t: t.split(\"\\t\"), \n",
    "            filter(lambda t: t[:1] == \"T\", \n",
    "                   brat_content[\"ann\"].split(\"\\n\"))))\n",
    "    )\n",
    "    if lang == \"en\":\n",
    "        # Tokenize\n",
    "        tokens_span = TreebankWordTokenizer().span_tokenize(text)\n",
    "        tokens = [text[start:end] for start, end in tokens_span]\n",
    "        # Token, PoSTag, Span\n",
    "        tts = [tt + (tokens_span[i], None) for i, tt in enumerate(PerceptronTagger().tag(tokens))]\n",
    "    annotations = tts, terms\n",
    "    return annotations\n",
    "\n",
    "default_dataset = rd.load_corpus()\n",
    "\n",
    "for skip in range(0, 1):\n",
    "    brat_content = default_dataset.train.popitem()[1][\"raw\"]\n",
    "    print(parse_brat_content(brat_content))"
   ]
  }
 ],
 "metadata": {
  "kernelspec": {
   "display_name": "Python 3",
   "language": "python",
   "name": "python3"
  },
  "language_info": {
   "codemirror_mode": {
    "name": "ipython",
    "version": 3
   },
   "file_extension": ".py",
   "mimetype": "text/x-python",
   "name": "python",
   "nbconvert_exporter": "python",
   "pygments_lexer": "ipython3",
   "version": "3.6.5rc1"
  }
 },
 "nbformat": 4,
 "nbformat_minor": 2
}
