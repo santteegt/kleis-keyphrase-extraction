{
 "cells": [
  {
   "cell_type": "code",
   "execution_count": 1,
   "metadata": {},
   "outputs": [],
   "source": [
    "import kleis.resources.dataset as kl\n",
    "from kleis.config.config import ACLRDTEC20"
   ]
  },
  {
   "cell_type": "code",
   "execution_count": 2,
   "metadata": {},
   "outputs": [],
   "source": [
    "acl_rd_tec_20 = kl.load_corpus(name=ACLRDTEC20)"
   ]
  },
  {
   "cell_type": "code",
   "execution_count": 3,
   "metadata": {},
   "outputs": [],
   "source": [
    "dataset = acl_rd_tec_20"
   ]
  },
  {
   "cell_type": "code",
   "execution_count": 4,
   "metadata": {},
   "outputs": [],
   "source": [
    "dataset.load_train(annotator=\"annotator2\")"
   ]
  },
  {
   "cell_type": "code",
   "execution_count": 5,
   "metadata": {},
   "outputs": [
    {
     "name": "stdout",
     "output_type": "stream",
     "text": [
      "ACL-RD-TEC 2.0 acl-rd-tec-2.0-annotator2 232 50\n"
     ]
    }
   ],
   "source": [
    "print(\"ACL-RD-TEC 2.0\", dataset.fullname, len(dataset.train), len(dataset.test))"
   ]
  },
  {
   "cell_type": "code",
   "execution_count": 6,
   "metadata": {},
   "outputs": [
    {
     "name": "stdout",
     "output_type": "stream",
     "text": [
      "+++++ 585\n",
      "P = 0.629630, R = 0.047026, $F_{1.0}$ = 0.087516\n",
      "+++++ 392\n",
      "P = 0.670213, R = 0.087137, $F_{1.0}$ = 0.154223\n",
      "+++++ 373\n",
      "P = 0.677852, R = 0.139696, $F_{1.0}$ = 0.231651\n",
      "+++++ 298\n",
      "P = 0.728571, R = 0.211618, $F_{1.0}$ = 0.327974\n",
      "+++++ 229\n",
      "P = 0.708000, R = 0.244813, $F_{1.0}$ = 0.363823\n",
      "+++++ 184\n",
      "P = 0.718861, R = 0.279391, $F_{1.0}$ = 0.402390\n",
      "+++++ 178\n",
      "P = 0.741325, R = 0.325035, $F_{1.0}$ = 0.451923\n",
      "+++++ 119\n",
      "P = 0.762319, R = 0.363762, $F_{1.0}$ = 0.492509\n",
      "+++++ 53\n",
      "P = 0.754190, R = 0.373444, $F_{1.0}$ = 0.499537\n",
      "+++++ 51\n",
      "P = 0.740360, R = 0.398340, $F_{1.0}$ = 0.517986\n",
      "+++++ 49\n",
      "P = 0.742500, R = 0.410788, $F_{1.0}$ = 0.528940\n",
      "+++++ 30\n",
      "P = 0.753181, R = 0.409405, $F_{1.0}$ = 0.530466\n",
      "+++++ 28\n",
      "P = 0.751899, R = 0.410788, $F_{1.0}$ = 0.531306\n",
      "+++++ 26\n",
      "P = 0.756098, R = 0.428769, $F_{1.0}$ = 0.547220\n",
      "+++++ 25\n",
      "P = 0.759804, R = 0.428769, $F_{1.0}$ = 0.548187\n",
      "+++++ 23\n",
      "P = 0.758537, R = 0.430152, $F_{1.0}$ = 0.548985\n",
      "+++++ 21\n",
      "P = 0.760000, R = 0.446750, $F_{1.0}$ = 0.562718\n",
      "+++++ 19\n",
      "P = 0.768150, R = 0.453665, $F_{1.0}$ = 0.570435\n",
      "+++++ 17\n",
      "P = 0.760563, R = 0.448133, $F_{1.0}$ = 0.563969\n",
      "+++++ 14\n",
      "P = 0.758621, R = 0.456432, $F_{1.0}$ = 0.569948\n",
      "+++++ 13\n",
      "P = 0.753425, R = 0.456432, $F_{1.0}$ = 0.568475\n",
      "+++++ 12\n",
      "P = 0.755760, R = 0.453665, $F_{1.0}$ = 0.566984\n",
      "+++++ 11\n",
      "P = 0.755656, R = 0.461964, $F_{1.0}$ = 0.573391\n",
      "+++++ 9\n",
      "P = 0.754505, R = 0.463347, $F_{1.0}$ = 0.574122\n",
      "+++++ 8\n",
      "P = 0.751101, R = 0.471646, $F_{1.0}$ = 0.579439\n",
      "+++++ 7\n",
      "P = 0.746171, R = 0.471646, $F_{1.0}$ = 0.577966\n",
      "+++++ 6\n",
      "P = 0.748373, R = 0.477178, $F_{1.0}$ = 0.582770\n",
      "+++++ 5\n",
      "P = 0.751606, R = 0.485477, $F_{1.0}$ = 0.589916\n",
      "+++++ 4\n",
      "P = 0.758030, R = 0.489627, $F_{1.0}$ = 0.594958\n",
      "+++++ 3\n",
      "P = 0.753219, R = 0.485477, $F_{1.0}$ = 0.590412\n",
      "+++++ 2\n",
      "P = 0.754717, R = 0.497925, $F_{1.0}$ = 0.600000\n",
      "+++++ 1\n",
      "P = 0.744376, R = 0.503458, $F_{1.0}$ = 0.600660\n"
     ]
    }
   ],
   "source": [
    "dataset.load_pos_sequences(filter_min_count=1)\n",
    "for threshold in sorted(dataset.filtering_counts(), reverse=True):\n",
    "    print(\"+++++\", threshold)\n",
    "    dataset.training(filter_min_count=threshold)\n",
    "    print(\"P = %f, R = %f, $F_{1.0}$ = %f\" % dataset.eval())"
   ]
  }
 ],
 "metadata": {
  "kernelspec": {
   "display_name": "Python 3",
   "language": "python",
   "name": "python3"
  },
  "language_info": {
   "codemirror_mode": {
    "name": "ipython",
    "version": 3
   },
   "file_extension": ".py",
   "mimetype": "text/x-python",
   "name": "python",
   "nbconvert_exporter": "python",
   "pygments_lexer": "ipython3",
   "version": "3.7.3"
  }
 },
 "nbformat": 4,
 "nbformat_minor": 2
}
